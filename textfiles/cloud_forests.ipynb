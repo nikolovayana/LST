{
 "cells": [
  {
   "cell_type": "markdown",
   "id": "b7d59fc0",
   "metadata": {},
   "source": [
    "### Resources"
   ]
  },
  {
   "cell_type": "markdown",
   "id": "d3681984",
   "metadata": {},
   "source": [
    "MODIS daily images --> 2000-present --> 250m res -->https://developers.google.com/earth-engine/datasets/catalog/MODIS_061_MOD09GQ#bands<br>\n",
    "MODIS 8day composites --> 2000-present --> 250m res -->include cloud masks -->https://developers.google.com/earth-engine/datasets/catalog/MODIS_061_MOD09Q1<br>\n",
    "MODIS daily cloud height (product 06_L2) --> 2017-present -->500m res --> https://atmosphere-imager.gsfc.nasa.gov/products/cloud/documentation<br>\n",
    "Landsat<br>\n",
    "Sentinel-2<br>\n"
   ]
  }
 ],
 "metadata": {
  "language_info": {
   "name": "python"
  }
 },
 "nbformat": 4,
 "nbformat_minor": 5
}
