{
 "cells": [
  {
   "cell_type": "code",
   "execution_count": null,
   "id": "ce6b5c65",
   "metadata": {},
   "outputs": [],
   "source": [
    "import json\n",
    "\n",
    "from oauthlib.oauth2 import BackendApplicationClient\n",
    "from requests_oauthlib import OAuth2Session\n",
    "\n",
    "from sentinelhub import SHConfig\n",
    "\n",
    "from source.utils import CLIENT_ID, CLIENT_SECRET"
   ]
  },
  {
   "cell_type": "markdown",
   "id": "b8700e1a",
   "metadata": {},
   "source": [
    "# Fetch token and authenticate"
   ]
  },
  {
   "cell_type": "code",
   "execution_count": 173,
   "id": "555cdcbb",
   "metadata": {},
   "outputs": [],
   "source": [
    "# set up credentials\n",
    "client = BackendApplicationClient(client_id=CLIENT_ID)\n",
    "oauth = OAuth2Session(client=client)\n",
    "\n",
    "# get an authentication token\n",
    "token = oauth.fetch_token(token_url='https://services.sentinel-hub.com/auth/realms/main/protocol/openid-connect/token',\n",
    "                          client_secret=CLIENT_SECRET, include_client_id=True)\n",
    "\n",
    "# All requests using this session will have an access token automatically added\n",
    "# resp = oauth.get(\"https://services.sentinel-hub.com/configuration/v1/wms/instances\")\n"
   ]
  },
  {
   "cell_type": "markdown",
   "id": "f9372d42",
   "metadata": {},
   "source": [
    "# Another way to authenticate"
   ]
  },
  {
   "cell_type": "code",
   "execution_count": 28,
   "id": "82a8f015",
   "metadata": {},
   "outputs": [],
   "source": [
    "config = SHConfig()\n",
    "\n",
    "config.sh_client_id = CLIENT_ID\n",
    "config.sh_client_secret = CLIENT_SECRET\n",
    "\n",
    "if not config.sh_client_id or not config.sh_client_secret:\n",
    "    print(\"Warning! To use Statistical API, please provide the credentials (OAuth client ID and client secret).\")"
   ]
  },
  {
   "cell_type": "markdown",
   "id": "43afd0e0",
   "metadata": {},
   "source": [
    "# Set geometry"
   ]
  },
  {
   "cell_type": "code",
   "execution_count": null,
   "id": "a98db1b5",
   "metadata": {},
   "outputs": [],
   "source": [
    "geometry = {\n",
    "  \"type\": \"Polygon\",\n",
    "  \"coordinates\": [\n",
    "    [\n",
    "      [\n",
    "        -83.60084,\n",
    "        8.753013\n",
    "      ],\n",
    "      [\n",
    "        -83.599982,\n",
    "        8.748644\n",
    "      ],\n",
    "      [\n",
    "        -83.596335,\n",
    "        8.749641\n",
    "      ],\n",
    "      [\n",
    "        -83.595866,\n",
    "        8.752738\n",
    "      ],\n",
    "      [\n",
    "        -83.60084,\n",
    "        8.753013\n",
    "      ]\n",
    "    ]\n",
    "  ]\n",
    "}"
   ]
  },
  {
   "cell_type": "markdown",
   "id": "aab1b5bd",
   "metadata": {},
   "source": [
    "# Set evalscript "
   ]
  },
  {
   "cell_type": "code",
   "execution_count": null,
   "id": "647a7555",
   "metadata": {},
   "outputs": [],
   "source": [
    "evalscript = \"\"\"\n",
    "//VERSION=3\n",
    "// To set custom max and min values, set\n",
    "// defaultVis to false and choose your max and\n",
    "// min values. The color map will then be scaled\n",
    "// to those max and min values\n",
    "\n",
    "// LST has two observations per days: 1h30 and 13h30 solar local time\n",
    "\n",
    "const defaultVis = true; // true or false\n",
    "const color_min = 263; // default min: 263\n",
    "const color_max = 340; // default max: 340\n",
    "const sensing_time = \"13\"; // \"0130\" or \"1330\" or \"\"\n",
    "\n",
    "//set the data for map and timeserie\n",
    "function setup() {\n",
    "    return {\n",
    "        input: [\"LST\", \"dataMask\"],\n",
    "        output: [\n",
    "            //{ id: \"default\", bands: 4 },\n",
    "            //{ id: \"index\", bands: 1, sampleType: \"FLOAT32\" },\n",
    "            { id: \"eobrowserStats\", bands: 1, sampleType: \"FLOAT32\" },\n",
    "            { id: \"dataMask\", bands: 1 }\n",
    "        ],\n",
    "        mosaicking: \"TILE\"\n",
    "    };\n",
    "}\n",
    "\n",
    "//Select files based on sensing time (0130 or 1330)\n",
    "function preProcessScenes(collections) {\n",
    "    collections.scenes.tiles = collections.scenes.tiles.filter(function (tile) {\n",
    "        return tile.dataPath.includes(\"T\" + sensing_time);\n",
    "    });\n",
    "    return collections;\n",
    "}\n",
    "\n",
    "function evaluatePixel(samples) {\n",
    "    // LST scale factor\n",
    "    const scaleFactor = 100;\n",
    "\n",
    "    // use the first sample with a datamask of 1\n",
    "    datamask = 0;\n",
    "    val = 0/0;\n",
    "    for (var i = 0; i < samples.length; i++) {\n",
    "        datamask = samples[i].dataMask;\n",
    "        if (datamask == 1) {\n",
    "            val = samples[i].LST / scaleFactor;\n",
    "            break;\n",
    "        }\n",
    "    }    \n",
    "    \n",
    "    return {\n",
    "        //default: [...visualizer.process(val), datamask],\n",
    "        //index: [val],\n",
    "        eobrowserStats: [val, datamask],\n",
    "        dataMask: [datamask],\n",
    "    };\n",
    "}\n",
    "\"\"\""
   ]
  },
  {
   "cell_type": "markdown",
   "id": "cad99af6",
   "metadata": {},
   "source": [
    "# Bild JSON request"
   ]
  },
  {
   "cell_type": "code",
   "execution_count": null,
   "id": "aa2227d9",
   "metadata": {},
   "outputs": [],
   "source": [
    "json_request = {\n",
    "  \"input\": {\n",
    "    \"bounds\": {\n",
    "      \"geometry\": geometry\n",
    "    },\n",
    "    \"data\": [\n",
    "      {\n",
    "        \"dataFilter\": {},\n",
    "        \"type\": \"byoc-723331c0-74d4-464a-8e0f-2433cb07c1aa\" # custom data set\n",
    "      }\n",
    "    ]\n",
    "  },\n",
    "  \"aggregation\": {\n",
    "    \"timeRange\": { # the time interval for the data\n",
    "      \"from\": \"2023-01-01T00:00:00Z\",\n",
    "      \"to\": \"2023-02-01T23:59:59Z\"\n",
    "    },\n",
    "    \"aggregationInterval\": {\n",
    "      \"of\": \"P10D\" # day interval \n",
    "    },\n",
    "    \"width\": None,\n",
    "    \"height\": None,\n",
    "    \"evalscript\": evalscript\n",
    "  },\n",
    "  \"calculations\": {\n",
    "    \"default\": {}\n",
    "  }\n",
    "}"
   ]
  },
  {
   "cell_type": "markdown",
   "id": "9b83d046",
   "metadata": {},
   "source": [
    "# Request data "
   ]
  },
  {
   "cell_type": "code",
   "execution_count": 124,
   "id": "2c09bc2e",
   "metadata": {},
   "outputs": [],
   "source": [
    "# Set the request url and headers\n",
    "url = \"https://services.sentinel-hub.com/api/v1/statistics\"\n",
    "headers = {\n",
    "  # \"Authorization\": \"Bearer <YOUR_TOKEN_HERE>\",\n",
    "  \"Accept\": \"application/json\",\n",
    "  \"Content-Type\": \"application/json\"\n",
    "}\n",
    "\n",
    "#Send the request\n",
    "response = oauth.request(\n",
    "    \"POST\", url, headers=headers, json = json_request\n",
    ")"
   ]
  },
  {
   "cell_type": "code",
   "execution_count": null,
   "id": "e3a09b1a",
   "metadata": {},
   "outputs": [],
   "source": [
    "result = response.json()\n",
    "print(json.dumps(result, indent=2))"
   ]
  }
 ],
 "metadata": {
  "kernelspec": {
   "display_name": "centinela_lst_env",
   "language": "python",
   "name": "python3"
  },
  "language_info": {
   "codemirror_mode": {
    "name": "ipython",
    "version": 3
   },
   "file_extension": ".py",
   "mimetype": "text/x-python",
   "name": "python",
   "nbconvert_exporter": "python",
   "pygments_lexer": "ipython3",
   "version": "3.11.11"
  }
 },
 "nbformat": 4,
 "nbformat_minor": 5
}
